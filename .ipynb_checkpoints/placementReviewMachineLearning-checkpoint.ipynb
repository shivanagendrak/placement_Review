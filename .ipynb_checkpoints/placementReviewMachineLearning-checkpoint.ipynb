{
 "cells": [
  {
   "cell_type": "code",
   "execution_count": 1,
   "id": "ba38b67b",
   "metadata": {},
   "outputs": [
    {
     "name": "stdout",
     "output_type": "stream",
     "text": [
      "Collecting pandas\n",
      "  Downloading pandas-2.2.2-cp311-cp311-macosx_11_0_arm64.whl.metadata (19 kB)\n",
      "Collecting numpy>=1.23.2 (from pandas)\n",
      "  Downloading numpy-1.26.4-cp311-cp311-macosx_11_0_arm64.whl.metadata (114 kB)\n",
      "\u001b[2K     \u001b[90m━━━━━━━━━━━━━━━━━━━━━━━━━━━━━━━━━━━━━━━\u001b[0m \u001b[32m114.8/114.8 kB\u001b[0m \u001b[31m3.9 MB/s\u001b[0m eta \u001b[36m0:00:00\u001b[0m\n",
      "\u001b[?25hRequirement already satisfied: python-dateutil>=2.8.2 in /opt/anaconda3/envs/ml/lib/python3.11/site-packages (from pandas) (2.8.2)\n",
      "Requirement already satisfied: pytz>=2020.1 in /opt/anaconda3/envs/ml/lib/python3.11/site-packages (from pandas) (2023.3.post1)\n",
      "Collecting tzdata>=2022.7 (from pandas)\n",
      "  Downloading tzdata-2024.1-py2.py3-none-any.whl.metadata (1.4 kB)\n",
      "Requirement already satisfied: six>=1.5 in /opt/anaconda3/envs/ml/lib/python3.11/site-packages (from python-dateutil>=2.8.2->pandas) (1.16.0)\n",
      "Downloading pandas-2.2.2-cp311-cp311-macosx_11_0_arm64.whl (11.3 MB)\n",
      "\u001b[2K   \u001b[90m━━━━━━━━━━━━━━━━━━━━━━━━━━━━━━━━━━━━━━━━\u001b[0m \u001b[32m11.3/11.3 MB\u001b[0m \u001b[31m37.0 MB/s\u001b[0m eta \u001b[36m0:00:00\u001b[0m \u001b[36m0:00:01\u001b[0m\n",
      "\u001b[?25hDownloading numpy-1.26.4-cp311-cp311-macosx_11_0_arm64.whl (14.0 MB)\n",
      "\u001b[2K   \u001b[90m━━━━━━━━━━━━━━━━━━━━━━━━━━━━━━━━━━━━━━━━\u001b[0m \u001b[32m14.0/14.0 MB\u001b[0m \u001b[31m17.6 MB/s\u001b[0m eta \u001b[36m0:00:00\u001b[0ma \u001b[36m0:00:01\u001b[0m\n",
      "\u001b[?25hDownloading tzdata-2024.1-py2.py3-none-any.whl (345 kB)\n",
      "\u001b[2K   \u001b[90m━━━━━━━━━━━━━━━━━━━━━━━━━━━━━━━━━━━━━━━━\u001b[0m \u001b[32m345.4/345.4 kB\u001b[0m \u001b[31m16.6 MB/s\u001b[0m eta \u001b[36m0:00:00\u001b[0m\n",
      "\u001b[?25hInstalling collected packages: tzdata, numpy, pandas\n",
      "Successfully installed numpy-1.26.4 pandas-2.2.2 tzdata-2024.1\n"
     ]
    }
   ],
   "source": [
    "!pip install pandas "
   ]
  },
  {
   "cell_type": "code",
   "execution_count": 2,
   "id": "34541593",
   "metadata": {},
   "outputs": [
    {
     "name": "stdout",
     "output_type": "stream",
     "text": [
      "Requirement already satisfied: numpy in /opt/anaconda3/envs/ml/lib/python3.11/site-packages (1.26.4)\r\n"
     ]
    }
   ],
   "source": [
    "!pip install numpy"
   ]
  },
  {
   "cell_type": "code",
   "execution_count": 1,
   "id": "846e52bc",
   "metadata": {},
   "outputs": [],
   "source": [
    "# Importing important libraries\n",
    "import numpy as np\n",
    "import pandas as pd"
   ]
  },
  {
   "cell_type": "code",
   "execution_count": 2,
   "id": "beb3eead",
   "metadata": {},
   "outputs": [],
   "source": [
    "# Load the Dataset\n",
    "df = pd.read_csv('placement.csv')"
   ]
  },
  {
   "cell_type": "code",
   "execution_count": 3,
   "id": "192a0c79",
   "metadata": {},
   "outputs": [
    {
     "data": {
      "text/html": [
       "<div>\n",
       "<style scoped>\n",
       "    .dataframe tbody tr th:only-of-type {\n",
       "        vertical-align: middle;\n",
       "    }\n",
       "\n",
       "    .dataframe tbody tr th {\n",
       "        vertical-align: top;\n",
       "    }\n",
       "\n",
       "    .dataframe thead th {\n",
       "        text-align: right;\n",
       "    }\n",
       "</style>\n",
       "<table border=\"1\" class=\"dataframe\">\n",
       "  <thead>\n",
       "    <tr style=\"text-align: right;\">\n",
       "      <th></th>\n",
       "      <th>Unnamed: 0</th>\n",
       "      <th>cgpa</th>\n",
       "      <th>iq</th>\n",
       "      <th>placement</th>\n",
       "    </tr>\n",
       "  </thead>\n",
       "  <tbody>\n",
       "    <tr>\n",
       "      <th>0</th>\n",
       "      <td>0</td>\n",
       "      <td>6.8</td>\n",
       "      <td>123.0</td>\n",
       "      <td>1</td>\n",
       "    </tr>\n",
       "    <tr>\n",
       "      <th>1</th>\n",
       "      <td>1</td>\n",
       "      <td>5.9</td>\n",
       "      <td>106.0</td>\n",
       "      <td>0</td>\n",
       "    </tr>\n",
       "    <tr>\n",
       "      <th>2</th>\n",
       "      <td>2</td>\n",
       "      <td>5.3</td>\n",
       "      <td>121.0</td>\n",
       "      <td>0</td>\n",
       "    </tr>\n",
       "    <tr>\n",
       "      <th>3</th>\n",
       "      <td>3</td>\n",
       "      <td>7.4</td>\n",
       "      <td>132.0</td>\n",
       "      <td>1</td>\n",
       "    </tr>\n",
       "    <tr>\n",
       "      <th>4</th>\n",
       "      <td>4</td>\n",
       "      <td>5.8</td>\n",
       "      <td>142.0</td>\n",
       "      <td>0</td>\n",
       "    </tr>\n",
       "    <tr>\n",
       "      <th>...</th>\n",
       "      <td>...</td>\n",
       "      <td>...</td>\n",
       "      <td>...</td>\n",
       "      <td>...</td>\n",
       "    </tr>\n",
       "    <tr>\n",
       "      <th>95</th>\n",
       "      <td>95</td>\n",
       "      <td>4.3</td>\n",
       "      <td>200.0</td>\n",
       "      <td>0</td>\n",
       "    </tr>\n",
       "    <tr>\n",
       "      <th>96</th>\n",
       "      <td>96</td>\n",
       "      <td>4.4</td>\n",
       "      <td>42.0</td>\n",
       "      <td>0</td>\n",
       "    </tr>\n",
       "    <tr>\n",
       "      <th>97</th>\n",
       "      <td>97</td>\n",
       "      <td>6.7</td>\n",
       "      <td>182.0</td>\n",
       "      <td>1</td>\n",
       "    </tr>\n",
       "    <tr>\n",
       "      <th>98</th>\n",
       "      <td>98</td>\n",
       "      <td>6.3</td>\n",
       "      <td>103.0</td>\n",
       "      <td>1</td>\n",
       "    </tr>\n",
       "    <tr>\n",
       "      <th>99</th>\n",
       "      <td>99</td>\n",
       "      <td>6.2</td>\n",
       "      <td>113.0</td>\n",
       "      <td>1</td>\n",
       "    </tr>\n",
       "  </tbody>\n",
       "</table>\n",
       "<p>100 rows × 4 columns</p>\n",
       "</div>"
      ],
      "text/plain": [
       "    Unnamed: 0  cgpa     iq  placement\n",
       "0            0   6.8  123.0          1\n",
       "1            1   5.9  106.0          0\n",
       "2            2   5.3  121.0          0\n",
       "3            3   7.4  132.0          1\n",
       "4            4   5.8  142.0          0\n",
       "..         ...   ...    ...        ...\n",
       "95          95   4.3  200.0          0\n",
       "96          96   4.4   42.0          0\n",
       "97          97   6.7  182.0          1\n",
       "98          98   6.3  103.0          1\n",
       "99          99   6.2  113.0          1\n",
       "\n",
       "[100 rows x 4 columns]"
      ]
     },
     "execution_count": 3,
     "metadata": {},
     "output_type": "execute_result"
    }
   ],
   "source": [
    "df"
   ]
  },
  {
   "cell_type": "code",
   "execution_count": 4,
   "id": "46b92cc8",
   "metadata": {},
   "outputs": [
    {
     "name": "stdout",
     "output_type": "stream",
     "text": [
      "<class 'pandas.core.frame.DataFrame'>\n",
      "RangeIndex: 100 entries, 0 to 99\n",
      "Data columns (total 4 columns):\n",
      " #   Column      Non-Null Count  Dtype  \n",
      "---  ------      --------------  -----  \n",
      " 0   Unnamed: 0  100 non-null    int64  \n",
      " 1   cgpa        100 non-null    float64\n",
      " 2   iq          100 non-null    float64\n",
      " 3   placement   100 non-null    int64  \n",
      "dtypes: float64(2), int64(2)\n",
      "memory usage: 3.3 KB\n"
     ]
    }
   ],
   "source": [
    "# information of Dataset\n",
    "df.info()"
   ]
  },
  {
   "cell_type": "code",
   "execution_count": 5,
   "id": "112122fc",
   "metadata": {},
   "outputs": [],
   "source": [
    "# Removing column which has no use called 'unamed:0'\n",
    "df = df.iloc[:,1:]"
   ]
  },
  {
   "cell_type": "code",
   "execution_count": 6,
   "id": "d00b243a",
   "metadata": {},
   "outputs": [
    {
     "data": {
      "text/html": [
       "<div>\n",
       "<style scoped>\n",
       "    .dataframe tbody tr th:only-of-type {\n",
       "        vertical-align: middle;\n",
       "    }\n",
       "\n",
       "    .dataframe tbody tr th {\n",
       "        vertical-align: top;\n",
       "    }\n",
       "\n",
       "    .dataframe thead th {\n",
       "        text-align: right;\n",
       "    }\n",
       "</style>\n",
       "<table border=\"1\" class=\"dataframe\">\n",
       "  <thead>\n",
       "    <tr style=\"text-align: right;\">\n",
       "      <th></th>\n",
       "      <th>cgpa</th>\n",
       "      <th>iq</th>\n",
       "      <th>placement</th>\n",
       "    </tr>\n",
       "  </thead>\n",
       "  <tbody>\n",
       "    <tr>\n",
       "      <th>0</th>\n",
       "      <td>6.8</td>\n",
       "      <td>123.0</td>\n",
       "      <td>1</td>\n",
       "    </tr>\n",
       "    <tr>\n",
       "      <th>1</th>\n",
       "      <td>5.9</td>\n",
       "      <td>106.0</td>\n",
       "      <td>0</td>\n",
       "    </tr>\n",
       "    <tr>\n",
       "      <th>2</th>\n",
       "      <td>5.3</td>\n",
       "      <td>121.0</td>\n",
       "      <td>0</td>\n",
       "    </tr>\n",
       "    <tr>\n",
       "      <th>3</th>\n",
       "      <td>7.4</td>\n",
       "      <td>132.0</td>\n",
       "      <td>1</td>\n",
       "    </tr>\n",
       "    <tr>\n",
       "      <th>4</th>\n",
       "      <td>5.8</td>\n",
       "      <td>142.0</td>\n",
       "      <td>0</td>\n",
       "    </tr>\n",
       "    <tr>\n",
       "      <th>...</th>\n",
       "      <td>...</td>\n",
       "      <td>...</td>\n",
       "      <td>...</td>\n",
       "    </tr>\n",
       "    <tr>\n",
       "      <th>95</th>\n",
       "      <td>4.3</td>\n",
       "      <td>200.0</td>\n",
       "      <td>0</td>\n",
       "    </tr>\n",
       "    <tr>\n",
       "      <th>96</th>\n",
       "      <td>4.4</td>\n",
       "      <td>42.0</td>\n",
       "      <td>0</td>\n",
       "    </tr>\n",
       "    <tr>\n",
       "      <th>97</th>\n",
       "      <td>6.7</td>\n",
       "      <td>182.0</td>\n",
       "      <td>1</td>\n",
       "    </tr>\n",
       "    <tr>\n",
       "      <th>98</th>\n",
       "      <td>6.3</td>\n",
       "      <td>103.0</td>\n",
       "      <td>1</td>\n",
       "    </tr>\n",
       "    <tr>\n",
       "      <th>99</th>\n",
       "      <td>6.2</td>\n",
       "      <td>113.0</td>\n",
       "      <td>1</td>\n",
       "    </tr>\n",
       "  </tbody>\n",
       "</table>\n",
       "<p>100 rows × 3 columns</p>\n",
       "</div>"
      ],
      "text/plain": [
       "    cgpa     iq  placement\n",
       "0    6.8  123.0          1\n",
       "1    5.9  106.0          0\n",
       "2    5.3  121.0          0\n",
       "3    7.4  132.0          1\n",
       "4    5.8  142.0          0\n",
       "..   ...    ...        ...\n",
       "95   4.3  200.0          0\n",
       "96   4.4   42.0          0\n",
       "97   6.7  182.0          1\n",
       "98   6.3  103.0          1\n",
       "99   6.2  113.0          1\n",
       "\n",
       "[100 rows x 3 columns]"
      ]
     },
     "execution_count": 6,
     "metadata": {},
     "output_type": "execute_result"
    }
   ],
   "source": [
    "df"
   ]
  },
  {
   "cell_type": "code",
   "execution_count": 7,
   "id": "5ba0a4ca",
   "metadata": {},
   "outputs": [
    {
     "data": {
      "text/html": [
       "<div>\n",
       "<style scoped>\n",
       "    .dataframe tbody tr th:only-of-type {\n",
       "        vertical-align: middle;\n",
       "    }\n",
       "\n",
       "    .dataframe tbody tr th {\n",
       "        vertical-align: top;\n",
       "    }\n",
       "\n",
       "    .dataframe thead th {\n",
       "        text-align: right;\n",
       "    }\n",
       "</style>\n",
       "<table border=\"1\" class=\"dataframe\">\n",
       "  <thead>\n",
       "    <tr style=\"text-align: right;\">\n",
       "      <th></th>\n",
       "      <th>cgpa</th>\n",
       "      <th>iq</th>\n",
       "      <th>placement</th>\n",
       "    </tr>\n",
       "  </thead>\n",
       "  <tbody>\n",
       "    <tr>\n",
       "      <th>0</th>\n",
       "      <td>6.8</td>\n",
       "      <td>123.0</td>\n",
       "      <td>1</td>\n",
       "    </tr>\n",
       "    <tr>\n",
       "      <th>1</th>\n",
       "      <td>5.9</td>\n",
       "      <td>106.0</td>\n",
       "      <td>0</td>\n",
       "    </tr>\n",
       "    <tr>\n",
       "      <th>2</th>\n",
       "      <td>5.3</td>\n",
       "      <td>121.0</td>\n",
       "      <td>0</td>\n",
       "    </tr>\n",
       "    <tr>\n",
       "      <th>3</th>\n",
       "      <td>7.4</td>\n",
       "      <td>132.0</td>\n",
       "      <td>1</td>\n",
       "    </tr>\n",
       "    <tr>\n",
       "      <th>4</th>\n",
       "      <td>5.8</td>\n",
       "      <td>142.0</td>\n",
       "      <td>0</td>\n",
       "    </tr>\n",
       "  </tbody>\n",
       "</table>\n",
       "</div>"
      ],
      "text/plain": [
       "   cgpa     iq  placement\n",
       "0   6.8  123.0          1\n",
       "1   5.9  106.0          0\n",
       "2   5.3  121.0          0\n",
       "3   7.4  132.0          1\n",
       "4   5.8  142.0          0"
      ]
     },
     "execution_count": 7,
     "metadata": {},
     "output_type": "execute_result"
    }
   ],
   "source": [
    "# top five rows \n",
    "df.head()"
   ]
  },
  {
   "cell_type": "code",
   "execution_count": 8,
   "id": "4050f8d3",
   "metadata": {},
   "outputs": [
    {
     "data": {
      "text/plain": [
       "(100, 3)"
      ]
     },
     "execution_count": 8,
     "metadata": {},
     "output_type": "execute_result"
    }
   ],
   "source": [
    "# total 100 rows and 3 columns\n",
    "df.shape"
   ]
  },
  {
   "cell_type": "markdown",
   "id": "d0d8610b",
   "metadata": {},
   "source": [
    "# Steps:-\n",
    "## 1. Preprocess + EDA( Exploratory Data Analysis) + Feature Selection\n",
    "## 2. Extract input and output columns\n",
    "## 3. Scale the values\n",
    "## 4. Train Test Split\n",
    "## 5. Train the model\n",
    "## 6. Evaluate the model/model Selection\n",
    "## 7. Deploy the model"
   ]
  },
  {
   "cell_type": "markdown",
   "id": "3f155ce5",
   "metadata": {},
   "source": [
    "## 3.Scale the values means we can scale the values range between 0 and 1"
   ]
  },
  {
   "cell_type": "markdown",
   "id": "323febc2",
   "metadata": {},
   "source": [
    "## 4. In Modeling we split the dataset into two part one is train another is test\n",
    "##  Ex: 90 or 80 part for train and 10 or 20 part for test of original result with trained one's \n",
    "# for this process we called \"Cross validation\""
   ]
  },
  {
   "cell_type": "code",
   "execution_count": null,
   "id": "6ace9dc4",
   "metadata": {},
   "outputs": [],
   "source": [
    "# for Preprocessing\n",
    "# we check that the dataset have missing values or not,  null values or not, Data duplicates or not\n",
    "# removing useless columns"
   ]
  },
  {
   "cell_type": "code",
   "execution_count": null,
   "id": "1703be8f",
   "metadata": {},
   "outputs": [],
   "source": [
    "# For EDA which is Exploratory Data Analysis\n",
    "# we have know how data of two columns look like\n",
    "# for that we will use matplotlib library"
   ]
  },
  {
   "cell_type": "code",
   "execution_count": 9,
   "id": "6ae34f23",
   "metadata": {},
   "outputs": [],
   "source": [
    "import matplotlib.pyplot as plt"
   ]
  },
  {
   "cell_type": "code",
   "execution_count": 1,
   "id": "19f61ad9",
   "metadata": {},
   "outputs": [
    {
     "name": "stdout",
     "output_type": "stream",
     "text": [
      "Channels:\n",
      " - defaults\n",
      " - anaconda\n",
      "Platform: osx-arm64\n",
      "Collecting package metadata (repodata.json): done\n",
      "Solving environment: done\n",
      "\n",
      "## Package Plan ##\n",
      "\n",
      "  environment location: /opt/anaconda3/envs/ml\n",
      "\n",
      "  added / updated specs:\n",
      "    - matplotlib\n",
      "\n",
      "\n",
      "The following packages will be downloaded:\n",
      "\n",
      "    package                    |            build\n",
      "    ---------------------------|-----------------\n",
      "    brotli-1.0.9               |       h80987f9_8          20 KB\n",
      "    brotli-bin-1.0.9           |       h80987f9_8          18 KB\n",
      "    fonttools-4.51.0           |  py311h80987f9_0         2.9 MB\n",
      "    libbrotlicommon-1.0.9      |       h80987f9_8          70 KB\n",
      "    libbrotlidec-1.0.9         |       h80987f9_8          29 KB\n",
      "    libbrotlienc-1.0.9         |       h80987f9_8         291 KB\n",
      "    matplotlib-3.8.4           |  py311hca03da5_0           9 KB\n",
      "    matplotlib-base-3.8.4      |  py311h7aedaa7_0         7.7 MB\n",
      "    pillow-10.3.0              |  py311h80987f9_0         869 KB\n",
      "    unicodedata2-15.1.0        |  py311h80987f9_0         532 KB\n",
      "    ------------------------------------------------------------\n",
      "                                           Total:        12.4 MB\n",
      "\n",
      "The following NEW packages will be INSTALLED:\n",
      "\n",
      "  blas               pkgs/main/osx-arm64::blas-1.0-openblas \n",
      "  brotli             pkgs/main/osx-arm64::brotli-1.0.9-h80987f9_8 \n",
      "  brotli-bin         pkgs/main/osx-arm64::brotli-bin-1.0.9-h80987f9_8 \n",
      "  contourpy          pkgs/main/osx-arm64::contourpy-1.2.0-py311h48ca7d4_0 \n",
      "  cycler             pkgs/main/noarch::cycler-0.11.0-pyhd3eb1b0_0 \n",
      "  fonttools          pkgs/main/osx-arm64::fonttools-4.51.0-py311h80987f9_0 \n",
      "  freetype           pkgs/main/osx-arm64::freetype-2.12.1-h1192e45_0 \n",
      "  kiwisolver         pkgs/main/osx-arm64::kiwisolver-1.4.4-py311h313beb8_0 \n",
      "  lcms2              pkgs/main/osx-arm64::lcms2-2.12-hba8e193_0 \n",
      "  lerc               pkgs/main/osx-arm64::lerc-3.0-hc377ac9_0 \n",
      "  libbrotlicommon    pkgs/main/osx-arm64::libbrotlicommon-1.0.9-h80987f9_8 \n",
      "  libbrotlidec       pkgs/main/osx-arm64::libbrotlidec-1.0.9-h80987f9_8 \n",
      "  libbrotlienc       pkgs/main/osx-arm64::libbrotlienc-1.0.9-h80987f9_8 \n",
      "  libdeflate         pkgs/main/osx-arm64::libdeflate-1.17-h80987f9_1 \n",
      "  libgfortran        pkgs/main/osx-arm64::libgfortran-5.0.0-11_3_0_hca03da5_28 \n",
      "  libgfortran5       pkgs/main/osx-arm64::libgfortran5-11.3.0-h009349e_28 \n",
      "  libopenblas        pkgs/main/osx-arm64::libopenblas-0.3.21-h269037a_0 \n",
      "  libtiff            pkgs/main/osx-arm64::libtiff-4.5.1-h313beb8_0 \n",
      "  libwebp-base       pkgs/main/osx-arm64::libwebp-base-1.3.2-h80987f9_0 \n",
      "  matplotlib         pkgs/main/osx-arm64::matplotlib-3.8.4-py311hca03da5_0 \n",
      "  matplotlib-base    pkgs/main/osx-arm64::matplotlib-base-3.8.4-py311h7aedaa7_0 \n",
      "  numpy              pkgs/main/osx-arm64::numpy-1.26.4-py311he598dae_0 \n",
      "  numpy-base         pkgs/main/osx-arm64::numpy-base-1.26.4-py311hfbfe69c_0 \n",
      "  openjpeg           pkgs/main/osx-arm64::openjpeg-2.3.0-h7a6adac_2 \n",
      "  pillow             pkgs/main/osx-arm64::pillow-10.3.0-py311h80987f9_0 \n",
      "  pyparsing          pkgs/main/osx-arm64::pyparsing-3.0.9-py311hca03da5_0 \n",
      "  unicodedata2       pkgs/main/osx-arm64::unicodedata2-15.1.0-py311h80987f9_0 \n",
      "\n",
      "The following packages will be UPDATED:\n",
      "\n",
      "  ca-certificates    anaconda::ca-certificates-2023.08.22-~ --> pkgs/main::ca-certificates-2024.3.11-hca03da5_0 \n",
      "  certifi            anaconda::certifi-2023.11.17-py311hca~ --> pkgs/main::certifi-2024.2.2-py311hca03da5_0 \n",
      "  openssl               anaconda::openssl-3.0.12-h1a28f6b_0 --> pkgs/main::openssl-3.0.13-h1a28f6b_0 \n",
      "\n",
      "\n",
      "\n",
      "Downloading and Extracting Packages:\n",
      "matplotlib-base-3.8. | 7.7 MB    |                                       |   0% \n",
      "fonttools-4.51.0     | 2.9 MB    |                                       |   0% \u001b[A\n",
      "\n",
      "pillow-10.3.0        | 869 KB    |                                       |   0% \u001b[A\u001b[A\n",
      "\n",
      "\n",
      "unicodedata2-15.1.0  | 532 KB    |                                       |   0% \u001b[A\u001b[A\u001b[A\n",
      "\n",
      "\n",
      "\n",
      "libbrotlienc-1.0.9   | 291 KB    |                                       |   0% \u001b[A\u001b[A\u001b[A\u001b[A\n",
      "\n",
      "\n",
      "\n",
      "\n",
      "libbrotlicommon-1.0. | 70 KB     |                                       |   0% \u001b[A\u001b[A\u001b[A\u001b[A\u001b[A\n",
      "\n",
      "\n",
      "\n",
      "\n",
      "\n",
      "libbrotlidec-1.0.9   | 29 KB     |                                       |   0% \u001b[A\u001b[A\u001b[A\u001b[A\u001b[A\u001b[A\n",
      "\n",
      "\n",
      "\n",
      "\n",
      "\n",
      "\n",
      "brotli-1.0.9         | 20 KB     |                                       |   0% \u001b[A\u001b[A\u001b[A\u001b[A\u001b[A\u001b[A\u001b[A\n",
      "\n",
      "\n",
      "\n",
      "\n",
      "\n",
      "\n",
      "\n",
      "brotli-bin-1.0.9     | 18 KB     |                                       |   0% \u001b[A\u001b[A\u001b[A\u001b[A\u001b[A\u001b[A\u001b[A\u001b[A\n",
      "\n",
      "\n",
      "\n",
      "\n",
      "\n",
      "\n",
      "\n",
      "\n",
      "matplotlib-3.8.4     | 9 KB      |                                       |   0% \u001b[A\u001b[A\u001b[A\u001b[A\u001b[A\u001b[A\u001b[A\u001b[A\u001b[A\n",
      "fonttools-4.51.0     | 2.9 MB    | 2                                     |   1% \u001b[A\n",
      "\n",
      "\n",
      "\n",
      "libbrotlienc-1.0.9   | 291 KB    | ##                                    |   5% \u001b[A\u001b[A\u001b[A\u001b[A\n",
      "\n",
      "\n",
      "matplotlib-base-3.8. | 7.7 MB    |                                       |   0% \u001b[A\u001b[A\u001b[A\n",
      "\n",
      "pillow-10.3.0        | 869 KB    | 6                                     |   2% \u001b[A\u001b[A\n",
      "\n",
      "\n",
      "\n",
      "libbrotlienc-1.0.9   | 291 KB    | ##################################### | 100% \u001b[A\u001b[A\u001b[A\u001b[A\n",
      "fonttools-4.51.0     | 2.9 MB    | #######################8              |  65% \u001b[A\n",
      "\n",
      "\n",
      "\n",
      "\n",
      "libbrotlicommon-1.0. | 70 KB     | ########4                             |  23% \u001b[A\u001b[A\u001b[A\u001b[A\u001b[A\n",
      "\n",
      "\n",
      "\n",
      "\n",
      "libbrotlicommon-1.0. | 70 KB     | ##################################### | 100% \u001b[A\u001b[A\u001b[A\u001b[A\u001b[A\n",
      "\n",
      "\n",
      "matplotlib-base-3.8. | 7.7 MB    | ###9                                  |  11% \u001b[A\u001b[A\u001b[A\n",
      "\n",
      "pillow-10.3.0        | 869 KB    | ###############################3      |  85% \u001b[A\u001b[A\n",
      "\n",
      "\n",
      "\n",
      "\n",
      "\n",
      "libbrotlidec-1.0.9   | 29 KB     | ####################5                 |  56% \u001b[A\u001b[A\u001b[A\u001b[A\u001b[A\u001b[A\n",
      "\n",
      "\n",
      "\n",
      "\n",
      "\n",
      "\n",
      "brotli-1.0.9         | 20 KB     | ##############################1       |  82% \u001b[A\u001b[A\u001b[A\u001b[A\u001b[A\u001b[A\u001b[A\n",
      "\n",
      "\n",
      "\n",
      "\n",
      "\n",
      "\n",
      "brotli-1.0.9         | 20 KB     | ##################################### | 100% \u001b[A\u001b[A\u001b[A\u001b[A\u001b[A\u001b[A\u001b[A\n",
      "\n",
      "\n",
      "\n",
      "\n",
      "\n",
      "libbrotlidec-1.0.9   | 29 KB     | ##################################### | 100% \u001b[A\u001b[A\u001b[A\u001b[A\u001b[A\u001b[A\n",
      "\n",
      "\n",
      "\n",
      "\n",
      "\n",
      "\n",
      "\n",
      "\n",
      "matplotlib-3.8.4     | 9 KB      | ##################################### | 100% \u001b[A\u001b[A\u001b[A\u001b[A\u001b[A\u001b[A\u001b[A\u001b[A\u001b[A\n",
      "\n",
      "\n",
      "\n",
      "\n",
      "\n",
      "\n",
      "\n",
      "brotli-bin-1.0.9     | 18 KB     | #################################2    |  90% \u001b[A\u001b[A\u001b[A\u001b[A\u001b[A\u001b[A\u001b[A\u001b[A\n",
      "\n",
      "\n",
      "\n",
      "\n",
      "\n",
      "\n",
      "\n",
      "\n",
      "matplotlib-3.8.4     | 9 KB      | ##################################### | 100% \u001b[A\u001b[A\u001b[A\u001b[A\u001b[A\u001b[A\u001b[A\u001b[A\u001b[A\n",
      "\n",
      "\n",
      "\n",
      "\n",
      "\n",
      "\n",
      "\n",
      "brotli-bin-1.0.9     | 18 KB     | ##################################### | 100% \u001b[A\u001b[A\u001b[A\u001b[A\u001b[A\u001b[A\u001b[A\u001b[A\n",
      "\n",
      "matplotlib-base-3.8. | 7.7 MB    | ###################################4  |  96% \u001b[A\u001b[A\n",
      "                                                                                \u001b[A\n",
      "                                                                                \u001b[A\n",
      "\n",
      "                                                                                \u001b[A\u001b[A\n",
      "\n",
      "\n",
      "                                                                                \u001b[A\u001b[A\u001b[A\n",
      "\n",
      "\n",
      "\n",
      "                                                                                \u001b[A\u001b[A\u001b[A\u001b[A\n",
      "\n",
      "\n",
      "\n",
      "\n",
      "                                                                                \u001b[A\u001b[A\u001b[A\u001b[A\u001b[A\n",
      "\n",
      "\n",
      "\n",
      "\n",
      "\n",
      "                                                                                \u001b[A\u001b[A\u001b[A\u001b[A\u001b[A\u001b[A\n",
      "\n",
      "\n",
      "\n",
      "\n",
      "\n",
      "\n",
      "                                                                                \u001b[A\u001b[A\u001b[A\u001b[A\u001b[A\u001b[A\u001b[A\n",
      "\n",
      "\n",
      "\n",
      "\n",
      "\n",
      "\n",
      "\n",
      "                                                                                \u001b[A\u001b[A\u001b[A\u001b[A\u001b[A\u001b[A\u001b[A\u001b[A\n",
      "\n",
      "\n",
      "\n",
      "\n",
      "\n",
      "\n",
      "\n",
      "\n",
      "                                                                                \u001b[A\u001b[A\u001b[A\u001b[A\u001b[A\u001b[A\u001b[A\u001b[A\u001b[A\n",
      "Preparing transaction: done\n",
      "Verifying transaction: done\n",
      "Executing transaction: done\n"
     ]
    }
   ],
   "source": [
    "# Installing matplotlib \n",
    "!conda install matplotlib -y"
   ]
  },
  {
   "cell_type": "code",
   "execution_count": 10,
   "id": "c4081b6e",
   "metadata": {},
   "outputs": [],
   "source": [
    "import matplotlib.pyplot as plt"
   ]
  },
  {
   "cell_type": "code",
   "execution_count": 11,
   "id": "187353d5",
   "metadata": {},
   "outputs": [
    {
     "data": {
      "text/plain": [
       "<matplotlib.collections.PathCollection at 0x117fa7e50>"
      ]
     },
     "execution_count": 11,
     "metadata": {},
     "output_type": "execute_result"
    },
    {
     "data": {
      "image/png": "[encoded data removed]",
      "text/plain": [
       "<Figure size 640x480 with 1 Axes>"
      ]
     },
     "metadata": {},
     "output_type": "display_data"
    }
   ],
   "source": [
    "plt.scatter(df['cgpa'],df['iq'])\n",
    "# this is the scatter plot for cgpa and iq "
   ]
  },
  {
   "cell_type": "code",
   "execution_count": null,
   "id": "e58f6848",
   "metadata": {},
   "outputs": [],
   "source": [
    "# now i want to check and want to know which students got placement, for that i'm using colour coding"
   ]
  },
  {
   "cell_type": "code",
   "execution_count": 12,
   "id": "06c97218",
   "metadata": {},
   "outputs": [
    {
     "data": {
      "text/plain": [
       "<matplotlib.collections.PathCollection at 0x11821c610>"
      ]
     },
     "execution_count": 12,
     "metadata": {},
     "output_type": "execute_result"
    },
    {
     "data": {
      "image/png": "[encoded data removed]",
      "text/plain": [
       "<Figure size 640x480 with 1 Axes>"
      ]
     },
     "metadata": {},
     "output_type": "display_data"
    }
   ],
   "source": [
    "plt.scatter(df['cgpa'],df['iq'],c=df['placement'])"
   ]
  },
  {
   "cell_type": "markdown",
   "id": "47933240",
   "metadata": {},
   "source": [
    "## yellow got placed and purple not placed"
   ]
  },
  {
   "cell_type": "code",
   "execution_count": null,
   "id": "e499d6e0",
   "metadata": {},
   "outputs": [],
   "source": [
    "# Now We are using \"Logistic Regression\" for this problem for show to varies or cut the- \n",
    "#line between placed or not placed"
   ]
  },
  {
   "cell_type": "code",
   "execution_count": 13,
   "id": "0f93ea19",
   "metadata": {},
   "outputs": [
    {
     "data": {
      "text/html": [
       "<div>\n",
       "<style scoped>\n",
       "    .dataframe tbody tr th:only-of-type {\n",
       "        vertical-align: middle;\n",
       "    }\n",
       "\n",
       "    .dataframe tbody tr th {\n",
       "        vertical-align: top;\n",
       "    }\n",
       "\n",
       "    .dataframe thead th {\n",
       "        text-align: right;\n",
       "    }\n",
       "</style>\n",
       "<table border=\"1\" class=\"dataframe\">\n",
       "  <thead>\n",
       "    <tr style=\"text-align: right;\">\n",
       "      <th></th>\n",
       "      <th>cgpa</th>\n",
       "      <th>iq</th>\n",
       "      <th>placement</th>\n",
       "    </tr>\n",
       "  </thead>\n",
       "  <tbody>\n",
       "    <tr>\n",
       "      <th>0</th>\n",
       "      <td>6.8</td>\n",
       "      <td>123.0</td>\n",
       "      <td>1</td>\n",
       "    </tr>\n",
       "    <tr>\n",
       "      <th>1</th>\n",
       "      <td>5.9</td>\n",
       "      <td>106.0</td>\n",
       "      <td>0</td>\n",
       "    </tr>\n",
       "    <tr>\n",
       "      <th>2</th>\n",
       "      <td>5.3</td>\n",
       "      <td>121.0</td>\n",
       "      <td>0</td>\n",
       "    </tr>\n",
       "    <tr>\n",
       "      <th>3</th>\n",
       "      <td>7.4</td>\n",
       "      <td>132.0</td>\n",
       "      <td>1</td>\n",
       "    </tr>\n",
       "    <tr>\n",
       "      <th>4</th>\n",
       "      <td>5.8</td>\n",
       "      <td>142.0</td>\n",
       "      <td>0</td>\n",
       "    </tr>\n",
       "    <tr>\n",
       "      <th>...</th>\n",
       "      <td>...</td>\n",
       "      <td>...</td>\n",
       "      <td>...</td>\n",
       "    </tr>\n",
       "    <tr>\n",
       "      <th>95</th>\n",
       "      <td>4.3</td>\n",
       "      <td>200.0</td>\n",
       "      <td>0</td>\n",
       "    </tr>\n",
       "    <tr>\n",
       "      <th>96</th>\n",
       "      <td>4.4</td>\n",
       "      <td>42.0</td>\n",
       "      <td>0</td>\n",
       "    </tr>\n",
       "    <tr>\n",
       "      <th>97</th>\n",
       "      <td>6.7</td>\n",
       "      <td>182.0</td>\n",
       "      <td>1</td>\n",
       "    </tr>\n",
       "    <tr>\n",
       "      <th>98</th>\n",
       "      <td>6.3</td>\n",
       "      <td>103.0</td>\n",
       "      <td>1</td>\n",
       "    </tr>\n",
       "    <tr>\n",
       "      <th>99</th>\n",
       "      <td>6.2</td>\n",
       "      <td>113.0</td>\n",
       "      <td>1</td>\n",
       "    </tr>\n",
       "  </tbody>\n",
       "</table>\n",
       "<p>100 rows × 3 columns</p>\n",
       "</div>"
      ],
      "text/plain": [
       "    cgpa     iq  placement\n",
       "0    6.8  123.0          1\n",
       "1    5.9  106.0          0\n",
       "2    5.3  121.0          0\n",
       "3    7.4  132.0          1\n",
       "4    5.8  142.0          0\n",
       "..   ...    ...        ...\n",
       "95   4.3  200.0          0\n",
       "96   4.4   42.0          0\n",
       "97   6.7  182.0          1\n",
       "98   6.3  103.0          1\n",
       "99   6.2  113.0          1\n",
       "\n",
       "[100 rows x 3 columns]"
      ]
     },
     "execution_count": 13,
     "metadata": {},
     "output_type": "execute_result"
    }
   ],
   "source": [
    "df"
   ]
  },
  {
   "cell_type": "markdown",
   "id": "3399ac14",
   "metadata": {},
   "source": [
    "# Extract input and output columns\n",
    "## * Here there are two things in the dataset which is dependent variables and non dependent variables\n",
    "## * cgpa and iq columns are non dependent variables \n",
    "## * placement column is dependent variable"
   ]
  },
  {
   "cell_type": "code",
   "execution_count": 14,
   "id": "2e971f2b",
   "metadata": {},
   "outputs": [],
   "source": [
    "X = df.iloc[:,0:2]"
   ]
  },
  {
   "cell_type": "code",
   "execution_count": 15,
   "id": "c1f3bcb3",
   "metadata": {},
   "outputs": [
    {
     "data": {
      "text/html": [
       "<div>\n",
       "<style scoped>\n",
       "    .dataframe tbody tr th:only-of-type {\n",
       "        vertical-align: middle;\n",
       "    }\n",
       "\n",
       "    .dataframe tbody tr th {\n",
       "        vertical-align: top;\n",
       "    }\n",
       "\n",
       "    .dataframe thead th {\n",
       "        text-align: right;\n",
       "    }\n",
       "</style>\n",
       "<table border=\"1\" class=\"dataframe\">\n",
       "  <thead>\n",
       "    <tr style=\"text-align: right;\">\n",
       "      <th></th>\n",
       "      <th>cgpa</th>\n",
       "      <th>iq</th>\n",
       "    </tr>\n",
       "  </thead>\n",
       "  <tbody>\n",
       "    <tr>\n",
       "      <th>0</th>\n",
       "      <td>6.8</td>\n",
       "      <td>123.0</td>\n",
       "    </tr>\n",
       "    <tr>\n",
       "      <th>1</th>\n",
       "      <td>5.9</td>\n",
       "      <td>106.0</td>\n",
       "    </tr>\n",
       "    <tr>\n",
       "      <th>2</th>\n",
       "      <td>5.3</td>\n",
       "      <td>121.0</td>\n",
       "    </tr>\n",
       "    <tr>\n",
       "      <th>3</th>\n",
       "      <td>7.4</td>\n",
       "      <td>132.0</td>\n",
       "    </tr>\n",
       "    <tr>\n",
       "      <th>4</th>\n",
       "      <td>5.8</td>\n",
       "      <td>142.0</td>\n",
       "    </tr>\n",
       "    <tr>\n",
       "      <th>...</th>\n",
       "      <td>...</td>\n",
       "      <td>...</td>\n",
       "    </tr>\n",
       "    <tr>\n",
       "      <th>95</th>\n",
       "      <td>4.3</td>\n",
       "      <td>200.0</td>\n",
       "    </tr>\n",
       "    <tr>\n",
       "      <th>96</th>\n",
       "      <td>4.4</td>\n",
       "      <td>42.0</td>\n",
       "    </tr>\n",
       "    <tr>\n",
       "      <th>97</th>\n",
       "      <td>6.7</td>\n",
       "      <td>182.0</td>\n",
       "    </tr>\n",
       "    <tr>\n",
       "      <th>98</th>\n",
       "      <td>6.3</td>\n",
       "      <td>103.0</td>\n",
       "    </tr>\n",
       "    <tr>\n",
       "      <th>99</th>\n",
       "      <td>6.2</td>\n",
       "      <td>113.0</td>\n",
       "    </tr>\n",
       "  </tbody>\n",
       "</table>\n",
       "<p>100 rows × 2 columns</p>\n",
       "</div>"
      ],
      "text/plain": [
       "    cgpa     iq\n",
       "0    6.8  123.0\n",
       "1    5.9  106.0\n",
       "2    5.3  121.0\n",
       "3    7.4  132.0\n",
       "4    5.8  142.0\n",
       "..   ...    ...\n",
       "95   4.3  200.0\n",
       "96   4.4   42.0\n",
       "97   6.7  182.0\n",
       "98   6.3  103.0\n",
       "99   6.2  113.0\n",
       "\n",
       "[100 rows x 2 columns]"
      ]
     },
     "execution_count": 15,
     "metadata": {},
     "output_type": "execute_result"
    }
   ],
   "source": [
    "X"
   ]
  },
  {
   "cell_type": "code",
   "execution_count": 16,
   "id": "4041d8d2",
   "metadata": {},
   "outputs": [],
   "source": [
    "y = df.iloc[:,-1]"
   ]
  },
  {
   "cell_type": "code",
   "execution_count": 17,
   "id": "28032014",
   "metadata": {},
   "outputs": [
    {
     "data": {
      "text/plain": [
       "0     1\n",
       "1     0\n",
       "2     0\n",
       "3     1\n",
       "4     0\n",
       "     ..\n",
       "95    0\n",
       "96    0\n",
       "97    1\n",
       "98    1\n",
       "99    1\n",
       "Name: placement, Length: 100, dtype: int64"
      ]
     },
     "execution_count": 17,
     "metadata": {},
     "output_type": "execute_result"
    }
   ],
   "source": [
    "y"
   ]
  },
  {
   "cell_type": "code",
   "execution_count": null,
   "id": "0c9153cc",
   "metadata": {},
   "outputs": [],
   "source": [
    "# Now we are doing spliting the dataset train and test "
   ]
  },
  {
   "cell_type": "code",
   "execution_count": 21,
   "id": "05935d53",
   "metadata": {},
   "outputs": [
    {
     "ename": "ModuleNotFoundError",
     "evalue": "No module named 'sklearn'",
     "output_type": "error",
     "traceback": [
      "\u001b[0;31m---------------------------------------------------------------------------\u001b[0m",
      "\u001b[0;31mModuleNotFoundError\u001b[0m                       Traceback (most recent call last)",
      "Cell \u001b[0;32mIn[21], line 1\u001b[0m\n\u001b[0;32m----> 1\u001b[0m \u001b[38;5;28;01mfrom\u001b[39;00m \u001b[38;5;21;01msklearn\u001b[39;00m\u001b[38;5;21;01m.\u001b[39;00m\u001b[38;5;21;01mmodel_selection\u001b[39;00m \u001b[38;5;28;01mimport\u001b[39;00m train_test_split\n",
      "\u001b[0;31mModuleNotFoundError\u001b[0m: No module named 'sklearn'"
     ]
    }
   ],
   "source": [
    "from sklearn.model_selection import train_test_split"
   ]
  },
  {
   "cell_type": "code",
   "execution_count": 22,
   "id": "3d1fa0f5",
   "metadata": {},
   "outputs": [
    {
     "name": "stdout",
     "output_type": "stream",
     "text": [
      "Channels:\n",
      " - defaults\n",
      " - anaconda\n",
      "Platform: osx-arm64\n",
      "Collecting package metadata (repodata.json): done\n",
      "Solving environment: done\n",
      "\n",
      "## Package Plan ##\n",
      "\n",
      "  environment location: /opt/anaconda3/envs/ml\n",
      "\n",
      "  added / updated specs:\n",
      "    - anaconda::scikit-learn\n",
      "\n",
      "\n",
      "The following packages will be downloaded:\n",
      "\n",
      "    package                    |            build\n",
      "    ---------------------------|-----------------\n",
      "    joblib-1.4.0               |  py311hca03da5_0         531 KB\n",
      "    numpy-1.24.3               |  py311hb57d4eb_0          12 KB\n",
      "    numpy-base-1.24.3          |  py311h1d85a46_0         6.9 MB\n",
      "    scikit-learn-1.3.0         |  py311h7aedaa7_0        10.4 MB  anaconda\n",
      "    scipy-1.13.0               |  py311hc76d9b0_0        22.7 MB\n",
      "    ------------------------------------------------------------\n",
      "                                           Total:        40.5 MB\n",
      "\n",
      "The following NEW packages will be INSTALLED:\n",
      "\n",
      "  joblib             pkgs/main/osx-arm64::joblib-1.4.0-py311hca03da5_0 \n",
      "  pybind11-abi       pkgs/main/noarch::pybind11-abi-4-hd3eb1b0_1 \n",
      "  scikit-learn       anaconda/osx-arm64::scikit-learn-1.3.0-py311h7aedaa7_0 \n",
      "  scipy              pkgs/main/osx-arm64::scipy-1.13.0-py311hc76d9b0_0 \n",
      "  threadpoolctl      pkgs/main/noarch::threadpoolctl-2.2.0-pyh0d69192_0 \n",
      "\n",
      "The following packages will be DOWNGRADED:\n",
      "\n",
      "  numpy                              1.26.4-py311he598dae_0 --> 1.24.3-py311hb57d4eb_0 \n",
      "  numpy-base                         1.26.4-py311hfbfe69c_0 --> 1.24.3-py311h1d85a46_0 \n",
      "\n",
      "\n",
      "\n",
      "Downloading and Extracting Packages:\n",
      "scipy-1.13.0         | 22.7 MB   |                                       |   0% \n",
      "scikit-learn-1.3.0   | 10.4 MB   |                                       |   0% \u001b[A\n",
      "\n",
      "numpy-base-1.24.3    | 6.9 MB    |                                       |   0% \u001b[A\u001b[A\n",
      "\n",
      "\n",
      "joblib-1.4.0         | 531 KB    |                                       |   0% \u001b[A\u001b[A\u001b[A\n",
      "\n",
      "\n",
      "\n",
      "numpy-1.24.3         | 12 KB     |                                       |   0% \u001b[A\u001b[A\u001b[A\u001b[A\n",
      "\n",
      "\n",
      "\n",
      "numpy-1.24.3         | 12 KB     | ##################################### | 100% \u001b[A\u001b[A\u001b[A\u001b[A\n",
      "\n",
      "\n",
      "scipy-1.13.0         | 22.7 MB   |                                       |   0% \u001b[A\u001b[A\u001b[A\n",
      "\n",
      "\n",
      "\n",
      "numpy-1.24.3         | 12 KB     | ##################################### | 100% \u001b[A\u001b[A\u001b[A\u001b[A\n",
      "\n",
      "numpy-base-1.24.3    | 6.9 MB    |                                       |   0% \u001b[A\u001b[A\n",
      "scipy-1.13.0         | 22.7 MB   | #7                                    |   5% \u001b[A\n",
      "\n",
      "numpy-base-1.24.3    | 6.9 MB    | ####                                  |  11% \u001b[A\u001b[A\n",
      "\n",
      "\n",
      "joblib-1.4.0         | 531 KB    | ##################################### | 100% \u001b[A\u001b[A\u001b[A\n",
      "\n",
      "\n",
      "joblib-1.4.0         | 531 KB    | ##################################### | 100% \u001b[A\u001b[A\u001b[A\n",
      "scipy-1.13.0         | 22.7 MB   | ##9                                   |   8% \u001b[A\n",
      "\n",
      "numpy-base-1.24.3    | 6.9 MB    | ######8                               |  18% \u001b[A\u001b[A\n",
      "scipy-1.13.0         | 22.7 MB   | ####7                                 |  13% \u001b[A\n",
      "\n",
      "numpy-base-1.24.3    | 6.9 MB    | ##############8                       |  40% \u001b[A\u001b[A\n",
      "scipy-1.13.0         | 22.7 MB   | ######8                               |  19% \u001b[A\n",
      "\n",
      "numpy-base-1.24.3    | 6.9 MB    | #########################4            |  69% \u001b[A\u001b[A\n",
      "scipy-1.13.0         | 22.7 MB   | ########8                             |  24% \u001b[A\n",
      "\n",
      "numpy-base-1.24.3    | 6.9 MB    | #################################2    |  90% \u001b[A\u001b[A\n",
      "scipy-1.13.0         | 22.7 MB   | ###########                           |  30% \u001b[A\n",
      "scipy-1.13.0         | 22.7 MB   | ##############1                       |  38% \u001b[A\n",
      "scipy-1.13.0         | 22.7 MB   | ################8                     |  45% \u001b[A\n",
      "scipy-1.13.0         | 22.7 MB   | ###################8                  |  54% \u001b[A\n",
      "\n",
      "numpy-base-1.24.3    | 6.9 MB    | ##################################### | 100% \u001b[A\u001b[A\n",
      "scipy-1.13.0         | 22.7 MB   | ######################5               |  61% \u001b[A\n",
      "scipy-1.13.0         | 22.7 MB   | #########################4            |  69% \u001b[A\n",
      "scipy-1.13.0         | 22.7 MB   | ############################1         |  76% \u001b[A\n",
      "scipy-1.13.0         | 22.7 MB   | ##############################7       |  83% \u001b[A\n",
      "scipy-1.13.0         | 22.7 MB   | #################################8    |  92% \u001b[A\n",
      "scipy-1.13.0         | 22.7 MB   | ####################################8 | 100% \u001b[A\n",
      "scikit-learn-1.3.0   | 10.4 MB   | #############################8        |  81% \u001b[A\n",
      "scikit-learn-1.3.0   | 10.4 MB   | ################################9     |  89% \u001b[A\n",
      "scipy-1.13.0         | 22.7 MB   | ##################################### | 100% \u001b[A\n",
      "                                                                                \u001b[A\n",
      "                                                                                \u001b[A\n",
      "\n",
      "                                                                                \u001b[A\u001b[A\n",
      "\n",
      "\n",
      "                                                                                \u001b[A\u001b[A\u001b[A\n",
      "\n",
      "\n",
      "\n",
      "                                                                                \u001b[A\u001b[A\u001b[A\u001b[A\n",
      "Preparing transaction: done\n",
      "Verifying transaction: done\n",
      "Executing transaction: done\n"
     ]
    }
   ],
   "source": [
    "# installing the Sklearn library\n",
    "!conda install anaconda::scikit-learn -y\n"
   ]
  },
  {
   "cell_type": "code",
   "execution_count": 18,
   "id": "3635800c",
   "metadata": {},
   "outputs": [],
   "source": [
    "# importing sklearn library\n",
    "from sklearn.model_selection import train_test_split"
   ]
  },
  {
   "cell_type": "code",
   "execution_count": 19,
   "id": "796ede2c",
   "metadata": {},
   "outputs": [],
   "source": [
    "X_train,X_test,y_train,y_test = train_test_split(X,y,test_size=0.1)"
   ]
  },
  {
   "cell_type": "code",
   "execution_count": 20,
   "id": "481d6ad3",
   "metadata": {},
   "outputs": [
    {
     "data": {
      "text/html": [
       "<div>\n",
       "<style scoped>\n",
       "    .dataframe tbody tr th:only-of-type {\n",
       "        vertical-align: middle;\n",
       "    }\n",
       "\n",
       "    .dataframe tbody tr th {\n",
       "        vertical-align: top;\n",
       "    }\n",
       "\n",
       "    .dataframe thead th {\n",
       "        text-align: right;\n",
       "    }\n",
       "</style>\n",
       "<table border=\"1\" class=\"dataframe\">\n",
       "  <thead>\n",
       "    <tr style=\"text-align: right;\">\n",
       "      <th></th>\n",
       "      <th>cgpa</th>\n",
       "      <th>iq</th>\n",
       "    </tr>\n",
       "  </thead>\n",
       "  <tbody>\n",
       "    <tr>\n",
       "      <th>40</th>\n",
       "      <td>4.9</td>\n",
       "      <td>134.0</td>\n",
       "    </tr>\n",
       "    <tr>\n",
       "      <th>64</th>\n",
       "      <td>7.0</td>\n",
       "      <td>64.0</td>\n",
       "    </tr>\n",
       "    <tr>\n",
       "      <th>32</th>\n",
       "      <td>7.0</td>\n",
       "      <td>139.0</td>\n",
       "    </tr>\n",
       "    <tr>\n",
       "      <th>20</th>\n",
       "      <td>6.6</td>\n",
       "      <td>120.0</td>\n",
       "    </tr>\n",
       "    <tr>\n",
       "      <th>48</th>\n",
       "      <td>6.6</td>\n",
       "      <td>138.0</td>\n",
       "    </tr>\n",
       "    <tr>\n",
       "      <th>...</th>\n",
       "      <td>...</td>\n",
       "      <td>...</td>\n",
       "    </tr>\n",
       "    <tr>\n",
       "      <th>81</th>\n",
       "      <td>5.4</td>\n",
       "      <td>107.0</td>\n",
       "    </tr>\n",
       "    <tr>\n",
       "      <th>25</th>\n",
       "      <td>5.0</td>\n",
       "      <td>91.0</td>\n",
       "    </tr>\n",
       "    <tr>\n",
       "      <th>18</th>\n",
       "      <td>4.0</td>\n",
       "      <td>100.0</td>\n",
       "    </tr>\n",
       "    <tr>\n",
       "      <th>33</th>\n",
       "      <td>6.0</td>\n",
       "      <td>149.0</td>\n",
       "    </tr>\n",
       "    <tr>\n",
       "      <th>73</th>\n",
       "      <td>4.9</td>\n",
       "      <td>61.0</td>\n",
       "    </tr>\n",
       "  </tbody>\n",
       "</table>\n",
       "<p>90 rows × 2 columns</p>\n",
       "</div>"
      ],
      "text/plain": [
       "    cgpa     iq\n",
       "40   4.9  134.0\n",
       "64   7.0   64.0\n",
       "32   7.0  139.0\n",
       "20   6.6  120.0\n",
       "48   6.6  138.0\n",
       "..   ...    ...\n",
       "81   5.4  107.0\n",
       "25   5.0   91.0\n",
       "18   4.0  100.0\n",
       "33   6.0  149.0\n",
       "73   4.9   61.0\n",
       "\n",
       "[90 rows x 2 columns]"
      ]
     },
     "execution_count": 20,
     "metadata": {},
     "output_type": "execute_result"
    }
   ],
   "source": [
    "X_train"
   ]
  },
  {
   "cell_type": "code",
   "execution_count": 21,
   "id": "eab4c9fc",
   "metadata": {},
   "outputs": [
    {
     "data": {
      "text/plain": [
       "(10, 2)"
      ]
     },
     "execution_count": 21,
     "metadata": {},
     "output_type": "execute_result"
    }
   ],
   "source": [
    "X_test.shape"
   ]
  },
  {
   "cell_type": "code",
   "execution_count": 22,
   "id": "8bef81c2",
   "metadata": {},
   "outputs": [
    {
     "data": {
      "text/plain": [
       "(90,)"
      ]
     },
     "execution_count": 22,
     "metadata": {},
     "output_type": "execute_result"
    }
   ],
   "source": [
    "y_train.shape"
   ]
  },
  {
   "cell_type": "code",
   "execution_count": 23,
   "id": "69740899",
   "metadata": {},
   "outputs": [
    {
     "data": {
      "text/plain": [
       "40    0\n",
       "64    1\n",
       "32    1\n",
       "20    1\n",
       "48    1\n",
       "     ..\n",
       "81    0\n",
       "25    0\n",
       "18    0\n",
       "33    0\n",
       "73    0\n",
       "Name: placement, Length: 90, dtype: int64"
      ]
     },
     "execution_count": 23,
     "metadata": {},
     "output_type": "execute_result"
    }
   ],
   "source": [
    "y_train"
   ]
  },
  {
   "cell_type": "code",
   "execution_count": 24,
   "id": "4cd1ab8e",
   "metadata": {},
   "outputs": [
    {
     "data": {
      "text/html": [
       "<div>\n",
       "<style scoped>\n",
       "    .dataframe tbody tr th:only-of-type {\n",
       "        vertical-align: middle;\n",
       "    }\n",
       "\n",
       "    .dataframe tbody tr th {\n",
       "        vertical-align: top;\n",
       "    }\n",
       "\n",
       "    .dataframe thead th {\n",
       "        text-align: right;\n",
       "    }\n",
       "</style>\n",
       "<table border=\"1\" class=\"dataframe\">\n",
       "  <thead>\n",
       "    <tr style=\"text-align: right;\">\n",
       "      <th></th>\n",
       "      <th>cgpa</th>\n",
       "      <th>iq</th>\n",
       "    </tr>\n",
       "  </thead>\n",
       "  <tbody>\n",
       "    <tr>\n",
       "      <th>87</th>\n",
       "      <td>5.7</td>\n",
       "      <td>132.0</td>\n",
       "    </tr>\n",
       "    <tr>\n",
       "      <th>7</th>\n",
       "      <td>5.0</td>\n",
       "      <td>63.0</td>\n",
       "    </tr>\n",
       "    <tr>\n",
       "      <th>76</th>\n",
       "      <td>4.9</td>\n",
       "      <td>155.0</td>\n",
       "    </tr>\n",
       "    <tr>\n",
       "      <th>52</th>\n",
       "      <td>7.0</td>\n",
       "      <td>175.0</td>\n",
       "    </tr>\n",
       "    <tr>\n",
       "      <th>4</th>\n",
       "      <td>5.8</td>\n",
       "      <td>142.0</td>\n",
       "    </tr>\n",
       "    <tr>\n",
       "      <th>72</th>\n",
       "      <td>7.3</td>\n",
       "      <td>116.0</td>\n",
       "    </tr>\n",
       "    <tr>\n",
       "      <th>58</th>\n",
       "      <td>8.0</td>\n",
       "      <td>79.0</td>\n",
       "    </tr>\n",
       "    <tr>\n",
       "      <th>19</th>\n",
       "      <td>5.2</td>\n",
       "      <td>132.0</td>\n",
       "    </tr>\n",
       "    <tr>\n",
       "      <th>66</th>\n",
       "      <td>6.9</td>\n",
       "      <td>96.0</td>\n",
       "    </tr>\n",
       "    <tr>\n",
       "      <th>54</th>\n",
       "      <td>6.4</td>\n",
       "      <td>141.0</td>\n",
       "    </tr>\n",
       "  </tbody>\n",
       "</table>\n",
       "</div>"
      ],
      "text/plain": [
       "    cgpa     iq\n",
       "87   5.7  132.0\n",
       "7    5.0   63.0\n",
       "76   4.9  155.0\n",
       "52   7.0  175.0\n",
       "4    5.8  142.0\n",
       "72   7.3  116.0\n",
       "58   8.0   79.0\n",
       "19   5.2  132.0\n",
       "66   6.9   96.0\n",
       "54   6.4  141.0"
      ]
     },
     "execution_count": 24,
     "metadata": {},
     "output_type": "execute_result"
    }
   ],
   "source": [
    "X_test"
   ]
  },
  {
   "cell_type": "code",
   "execution_count": null,
   "id": "7cb42fc7",
   "metadata": {},
   "outputs": [],
   "source": [
    "# Already Told you that we have to scale the value from 0 to 1"
   ]
  },
  {
   "cell_type": "code",
   "execution_count": 25,
   "id": "14223cd9",
   "metadata": {},
   "outputs": [],
   "source": [
    "from sklearn.preprocessing import StandardScaler"
   ]
  },
  {
   "cell_type": "code",
   "execution_count": 26,
   "id": "0fa2573b",
   "metadata": {},
   "outputs": [],
   "source": [
    "scaler = StandardScaler()"
   ]
  },
  {
   "cell_type": "code",
   "execution_count": 27,
   "id": "bb452460",
   "metadata": {},
   "outputs": [],
   "source": [
    "X_train = scaler.fit_transform(X_train)"
   ]
  },
  {
   "cell_type": "code",
   "execution_count": 28,
   "id": "68b35c29",
   "metadata": {},
   "outputs": [
    {
     "data": {
      "text/plain": [
       "array([[-0.92766877,  0.25645013],\n",
       "       [ 0.90058355, -1.47520668],\n",
       "       [ 0.90058355,  0.3801399 ],\n",
       "       [ 0.55234501, -0.08988123],\n",
       "       [ 0.55234501,  0.35540195],\n",
       "       [ 0.72646428, -0.83201987],\n",
       "       [-0.7535495 ,  0.1080224 ],\n",
       "       [ 0.37822575, -0.18883305],\n",
       "       [-2.14650366,  2.70550762],\n",
       "       [-0.2311917 ,  0.40487785],\n",
       "       [-1.01472841, -0.28778487],\n",
       "       [ 0.02998721,  0.00907058],\n",
       "       [-0.7535495 ,  1.29544422],\n",
       "       [ 0.20410648, -0.26304692],\n",
       "       [ 1.42294136, -0.85675782],\n",
       "       [-0.2311917 ,  0.47909172],\n",
       "       [ 0.81352392,  0.3801399 ],\n",
       "       [ 0.02998721, -0.53516441],\n",
       "       [ 0.11704684, -1.45046873],\n",
       "       [ 0.98764319, -1.87101396],\n",
       "       [-0.7535495 , -1.42573078],\n",
       "       [ 0.46528538, -0.83201987],\n",
       "       [ 0.11704684,  0.20697422],\n",
       "       [ 0.29116611,  0.1080224 ],\n",
       "       [-1.45002658,  1.88915512],\n",
       "       [ 0.72646428, -0.28778487],\n",
       "       [ 0.02998721, -1.94522782],\n",
       "       [-1.10178804, -1.77206214],\n",
       "       [ 0.46528538,  0.89963694],\n",
       "       [-1.18884768,  0.55330558],\n",
       "       [-0.66648987, -0.33726078],\n",
       "       [-0.4923706 ,  0.28118808],\n",
       "       [ 1.16176246, -1.82153805],\n",
       "       [ 1.33588173,  0.85016103],\n",
       "       [ 0.63940465,  1.44387194],\n",
       "       [-0.92766877,  0.67699535],\n",
       "       [-0.57943023, -0.06514328],\n",
       "       [-0.05707243, -0.4362126 ],\n",
       "       [ 0.46528538,  0.15749831],\n",
       "       [ 0.72646428, -0.01566737],\n",
       "       [ 1.85823953,  0.62751944],\n",
       "       [-0.66648987,  0.9243749 ],\n",
       "       [-0.2311917 ,  1.12227853],\n",
       "       [-1.01472841,  1.12227853],\n",
       "       [-2.32062293,  1.4686099 ],\n",
       "       [ 1.59706063, -0.23830896],\n",
       "       [-1.10178804, -0.06514328],\n",
       "       [ 2.0323588 ,  1.09754058],\n",
       "       [-0.84060914, -0.13935714],\n",
       "       [-1.01472841,  0.42961581],\n",
       "       [ 1.16176246, -0.93097169],\n",
       "       [ 0.29116611,  0.08328445],\n",
       "       [-0.92766877, -0.08988123],\n",
       "       [-0.57943023, -0.23830896],\n",
       "       [-1.36296695, -2.01944168],\n",
       "       [ 1.42294136,  0.1080224 ],\n",
       "       [-0.14413206,  1.04806467],\n",
       "       [-1.10178804, -0.90623373],\n",
       "       [ 0.81352392,  0.35540195],\n",
       "       [ 0.29116611, -0.51042646],\n",
       "       [-0.66648987, -0.83201987],\n",
       "       [-1.71120548, -1.20308919],\n",
       "       [ 1.24882209,  0.20697422],\n",
       "       [ 1.33588173, -1.54942055],\n",
       "       [ 0.11704684, -0.51042646],\n",
       "       [-0.4923706 ,  0.3801399 ],\n",
       "       [ 2.20647807, -0.08988123],\n",
       "       [-1.79826512, -0.36199873],\n",
       "       [ 1.85823953,  1.04806467],\n",
       "       [ 0.46528538, -2.14313145],\n",
       "       [-1.36296695,  0.62751944],\n",
       "       [ 0.98764319,  0.67699535],\n",
       "       [ 0.63940465,  0.75120922],\n",
       "       [ 0.90058355,  1.86441717],\n",
       "       [-0.66648987,  2.48286603],\n",
       "       [ 1.33588173,  0.15749831],\n",
       "       [ 0.11704684,  0.80068513],\n",
       "       [ 1.16176246,  0.33066399],\n",
       "       [-0.92766877,  1.7902033 ],\n",
       "       [ 0.02998721, -1.42573078],\n",
       "       [-1.01472841,  0.97385081],\n",
       "       [-0.4923706 , -0.23830896],\n",
       "       [ 0.90058355, -0.28778487],\n",
       "       [ 0.72646428,  0.42961581],\n",
       "       [ 0.11704684, -1.05466146],\n",
       "       [-0.4923706 , -0.41147464],\n",
       "       [-0.84060914, -0.80728191],\n",
       "       [-1.71120548, -0.58464032],\n",
       "       [ 0.02998721,  0.62751944],\n",
       "       [-0.92766877, -1.54942055]])"
      ]
     },
     "execution_count": 28,
     "metadata": {},
     "output_type": "execute_result"
    }
   ],
   "source": [
    "X_train"
   ]
  },
  {
   "cell_type": "code",
   "execution_count": 29,
   "id": "21345501",
   "metadata": {},
   "outputs": [],
   "source": [
    "X_test = scaler.transform(X_test)"
   ]
  },
  {
   "cell_type": "code",
   "execution_count": 30,
   "id": "0fc9478a",
   "metadata": {},
   "outputs": [
    {
     "data": {
      "text/plain": [
       "array([[-0.2311917 ,  0.20697422],\n",
       "       [-0.84060914, -1.49994464],\n",
       "       [-0.92766877,  0.77594717],\n",
       "       [ 0.90058355,  1.27070626],\n",
       "       [-0.14413206,  0.45435376],\n",
       "       [ 1.16176246, -0.18883305],\n",
       "       [ 1.7711799 , -1.10413737],\n",
       "       [-0.66648987,  0.20697422],\n",
       "       [ 0.81352392, -0.68359214],\n",
       "       [ 0.37822575,  0.42961581]])"
      ]
     },
     "execution_count": 30,
     "metadata": {},
     "output_type": "execute_result"
    }
   ],
   "source": [
    "X_test"
   ]
  },
  {
   "cell_type": "code",
   "execution_count": 31,
   "id": "24b7f4b3",
   "metadata": {},
   "outputs": [],
   "source": [
    "# importing logistic regression model \n",
    "from sklearn.linear_model import LogisticRegression"
   ]
  },
  {
   "cell_type": "code",
   "execution_count": 32,
   "id": "41c99b81",
   "metadata": {},
   "outputs": [],
   "source": [
    "clf = LogisticRegression()"
   ]
  },
  {
   "cell_type": "code",
   "execution_count": 33,
   "id": "3602f619",
   "metadata": {},
   "outputs": [
    {
     "data": {
      "text/html": [
       "<style>#sk-container-id-1 {color: black;}#sk-container-id-1 pre{padding: 0;}#sk-container-id-1 div.sk-toggleable {background-color: white;}#sk-container-id-1 label.sk-toggleable__label {cursor: pointer;display: block;width: 100%;margin-bottom: 0;padding: 0.3em;box-sizing: border-box;text-align: center;}#sk-container-id-1 label.sk-toggleable__label-arrow:before {content: \"▸\";float: left;margin-right: 0.25em;color: #696969;}#sk-container-id-1 label.sk-toggleable__label-arrow:hover:before {color: black;}#sk-container-id-1 div.sk-estimator:hover label.sk-toggleable__label-arrow:before {color: black;}#sk-container-id-1 div.sk-toggleable__content {max-height: 0;max-width: 0;overflow: hidden;text-align: left;background-color: #f0f8ff;}#sk-container-id-1 div.sk-toggleable__content pre {margin: 0.2em;color: black;border-radius: 0.25em;background-color: #f0f8ff;}#sk-container-id-1 input.sk-toggleable__control:checked~div.sk-toggleable__content {max-height: 200px;max-width: 100%;overflow: auto;}#sk-container-id-1 input.sk-toggleable__control:checked~label.sk-toggleable__label-arrow:before {content: \"▾\";}#sk-container-id-1 div.sk-estimator input.sk-toggleable__control:checked~label.sk-toggleable__label {background-color: #d4ebff;}#sk-container-id-1 div.sk-label input.sk-toggleable__control:checked~label.sk-toggleable__label {background-color: #d4ebff;}#sk-container-id-1 input.sk-hidden--visually {border: 0;clip: rect(1px 1px 1px 1px);clip: rect(1px, 1px, 1px, 1px);height: 1px;margin: -1px;overflow: hidden;padding: 0;position: absolute;width: 1px;}#sk-container-id-1 div.sk-estimator {font-family: monospace;background-color: #f0f8ff;border: 1px dotted black;border-radius: 0.25em;box-sizing: border-box;margin-bottom: 0.5em;}#sk-container-id-1 div.sk-estimator:hover {background-color: #d4ebff;}#sk-container-id-1 div.sk-parallel-item::after {content: \"\";width: 100%;border-bottom: 1px solid gray;flex-grow: 1;}#sk-container-id-1 div.sk-label:hover label.sk-toggleable__label {background-color: #d4ebff;}#sk-container-id-1 div.sk-serial::before {content: \"\";position: absolute;border-left: 1px solid gray;box-sizing: border-box;top: 0;bottom: 0;left: 50%;z-index: 0;}#sk-container-id-1 div.sk-serial {display: flex;flex-direction: column;align-items: center;background-color: white;padding-right: 0.2em;padding-left: 0.2em;position: relative;}#sk-container-id-1 div.sk-item {position: relative;z-index: 1;}#sk-container-id-1 div.sk-parallel {display: flex;align-items: stretch;justify-content: center;background-color: white;position: relative;}#sk-container-id-1 div.sk-item::before, #sk-container-id-1 div.sk-parallel-item::before {content: \"\";position: absolute;border-left: 1px solid gray;box-sizing: border-box;top: 0;bottom: 0;left: 50%;z-index: -1;}#sk-container-id-1 div.sk-parallel-item {display: flex;flex-direction: column;z-index: 1;position: relative;background-color: white;}#sk-container-id-1 div.sk-parallel-item:first-child::after {align-self: flex-end;width: 50%;}#sk-container-id-1 div.sk-parallel-item:last-child::after {align-self: flex-start;width: 50%;}#sk-container-id-1 div.sk-parallel-item:only-child::after {width: 0;}#sk-container-id-1 div.sk-dashed-wrapped {border: 1px dashed gray;margin: 0 0.4em 0.5em 0.4em;box-sizing: border-box;padding-bottom: 0.4em;background-color: white;}#sk-container-id-1 div.sk-label label {font-family: monospace;font-weight: bold;display: inline-block;line-height: 1.2em;}#sk-container-id-1 div.sk-label-container {text-align: center;}#sk-container-id-1 div.sk-container {/* jupyter's `normalize.less` sets `[hidden] { display: none; }` but bootstrap.min.css set `[hidden] { display: none !important; }` so we also need the `!important` here to be able to override the default hidden behavior on the sphinx rendered scikit-learn.org. See: https://github.com/scikit-learn/scikit-learn/issues/21755 */display: inline-block !important;position: relative;}#sk-container-id-1 div.sk-text-repr-fallback {display: none;}</style><div id=\"sk-container-id-1\" class=\"sk-top-container\"><div class=\"sk-text-repr-fallback\"><pre>LogisticRegression()</pre><b>In a Jupyter environment, please rerun this cell to show the HTML representation or trust the notebook. <br />On GitHub, the HTML representation is unable to render, please try loading this page with nbviewer.org.</b></div><div class=\"sk-container\" hidden><div class=\"sk-item\"><div class=\"sk-estimator sk-toggleable\"><input class=\"sk-toggleable__control sk-hidden--visually\" id=\"sk-estimator-id-1\" type=\"checkbox\" checked><label for=\"sk-estimator-id-1\" class=\"sk-toggleable__label sk-toggleable__label-arrow\">LogisticRegression</label><div class=\"sk-toggleable__content\"><pre>LogisticRegression()</pre></div></div></div></div></div>"
      ],
      "text/plain": [
       "LogisticRegression()"
      ]
     },
     "execution_count": 33,
     "metadata": {},
     "output_type": "execute_result"
    }
   ],
   "source": [
    "# Model Training\n",
    "clf.fit(X_train,y_train)"
   ]
  },
  {
   "cell_type": "code",
   "execution_count": 34,
   "id": "2e9793c2",
   "metadata": {},
   "outputs": [
    {
     "data": {
      "text/plain": [
       "array([0, 0, 0, 1, 0, 1, 1, 0, 1, 1])"
      ]
     },
     "execution_count": 34,
     "metadata": {},
     "output_type": "execute_result"
    }
   ],
   "source": [
    "clf.predict(X_test)"
   ]
  },
  {
   "cell_type": "code",
   "execution_count": 35,
   "id": "3dda4999",
   "metadata": {},
   "outputs": [
    {
     "data": {
      "text/plain": [
       "87    1\n",
       "7     0\n",
       "76    0\n",
       "52    1\n",
       "4     0\n",
       "72    1\n",
       "58    1\n",
       "19    0\n",
       "66    1\n",
       "54    1\n",
       "Name: placement, dtype: int64"
      ]
     },
     "execution_count": 35,
     "metadata": {},
     "output_type": "execute_result"
    }
   ],
   "source": [
    "y_test"
   ]
  },
  {
   "cell_type": "code",
   "execution_count": 36,
   "id": "77bfdec3",
   "metadata": {},
   "outputs": [],
   "source": [
    "y_pred = clf.predict(X_test)"
   ]
  },
  {
   "cell_type": "code",
   "execution_count": 37,
   "id": "0480b370",
   "metadata": {},
   "outputs": [],
   "source": [
    "from sklearn.metrics import accuracy_score"
   ]
  },
  {
   "cell_type": "code",
   "execution_count": 38,
   "id": "0355a658",
   "metadata": {},
   "outputs": [
    {
     "data": {
      "text/plain": [
       "90.0"
      ]
     },
     "execution_count": 38,
     "metadata": {},
     "output_type": "execute_result"
    }
   ],
   "source": [
    "accuracy_score(y_test, y_pred)*100"
   ]
  },
  {
   "cell_type": "code",
   "execution_count": 40,
   "id": "dea7c77c",
   "metadata": {},
   "outputs": [],
   "source": [
    "from mlxtend.plotting import plot_decision_regions\n"
   ]
  },
  {
   "cell_type": "code",
   "execution_count": 41,
   "id": "292d86e6",
   "metadata": {},
   "outputs": [
    {
     "data": {
      "text/plain": [
       "<Axes: >"
      ]
     },
     "execution_count": 41,
     "metadata": {},
     "output_type": "execute_result"
    },
    {
     "data": {
      "image/png": "[encoded data removed]",
      "text/plain": [
       "<Figure size 640x480 with 1 Axes>"
      ]
     },
     "metadata": {},
     "output_type": "display_data"
    }
   ],
   "source": [
    "plot_decision_regions(X_train,y_train.values,clf=clf,legend=2)"
   ]
  }
 ],
 "metadata": {
  "kernelspec": {
   "display_name": "Python 3 (ipykernel)",
   "language": "python",
   "name": "python3"
  },
  "language_info": {
   "codemirror_mode": {
    "name": "ipython",
    "version": 3
   },
   "file_extension": ".py",
   "mimetype": "text/x-python",
   "name": "python",
   "nbconvert_exporter": "python",
   "pygments_lexer": "ipython3",
   "version": "3.11.5"
  }
 },
 "nbformat": 4,
 "nbformat_minor": 5
}
